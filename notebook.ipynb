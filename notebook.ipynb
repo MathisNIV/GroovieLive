{
 "cells": [
  {
   "cell_type": "markdown",
   "metadata": {},
   "source": [
    "# Imports"
   ]
  },
  {
   "cell_type": "code",
   "execution_count": 21,
   "metadata": {},
   "outputs": [],
   "source": [
    "from urllib.parse import urlparse, parse_qs, urlencode\n",
    "from requests import get, post\n",
    "from getpass import getpass\n",
    "from re import findall"
   ]
  },
  {
   "cell_type": "markdown",
   "metadata": {},
   "source": [
    "# Get token"
   ]
  },
  {
   "cell_type": "markdown",
   "metadata": {},
   "source": [
    "## Urls def"
   ]
  },
  {
   "cell_type": "code",
   "execution_count": 3,
   "metadata": {},
   "outputs": [],
   "source": [
    "beatport_base_url = 'https://api.beatport.com/v4'\n",
    "beatport_redirect_uri = beatport_base_url + '/auth/o/post-message/'"
   ]
  },
  {
   "cell_type": "markdown",
   "metadata": {},
   "source": [
    "## Get client id"
   ]
  },
  {
   "cell_type": "code",
   "execution_count": 11,
   "metadata": {},
   "outputs": [
    {
     "name": "stdout",
     "output_type": "stream",
     "text": [
      "0GIvkCltVIuPkkwSJHp6NDb3s0potTjLBQr388Dd\n"
     ]
    }
   ],
   "source": [
    "client_id = ''\n",
    "html = get('https://api.beatport.com/v4/docs/').content.decode('utf-8')\n",
    "scripts_matches = findall(r\"src=.(.*js)\", html)\n",
    "for script_url in scripts_matches:\n",
    "    url = 'https://api.beatport.com{}'.format(script_url)\n",
    "    js = get(url.format(script_url)).content.decode('utf-8')\n",
    "    client_id_matches = findall(r\"API_CLIENT_ID: \\'(.*)\\'\", js)\n",
    "    if client_id_matches:\n",
    "        client_id = client_id_matches[0]\n",
    "client_id"
   ]
  },
  {
   "cell_type": "markdown",
   "metadata": {},
   "source": [
    "## Login"
   ]
  },
  {
   "cell_type": "code",
   "execution_count": 20,
   "metadata": {},
   "outputs": [
    {
     "data": {
      "text/plain": [
       "{'username': 'MrWr',\n",
       " 'first_name': 'CortoZ',\n",
       " 'last_name': 'Deschamp',\n",
       " 'email': 'corto.deschamps@cpe.fr',\n",
       " 'email_confirmed': False,\n",
       " 'register_ip_address_ntoa': '77.199.189.52',\n",
       " '_next': 'https://www.beatport.com'}"
      ]
     },
     "execution_count": 20,
     "metadata": {},
     "output_type": "execute_result"
    }
   ],
   "source": [
    "response = post(url=beatport_base_url + '/auth/login/', \n",
    "                json={'username': input(\"Enter your username: \"),\n",
    "                      'password': getpass(\"Enter your password: \")})\n",
    "response.json()"
   ]
  },
  {
   "cell_type": "markdown",
   "metadata": {},
   "source": [
    "## Authorization code"
   ]
  },
  {
   "cell_type": "code",
   "execution_count": 22,
   "metadata": {},
   "outputs": [
    {
     "data": {
      "text/plain": [
       "'response_type=code&client_id=0GIvkCltVIuPkkwSJHp6NDb3s0potTjLBQr388Dd&redirect_uri=https%3A%2F%2Fapi.beatport.com%2Fv4%2Fauth%2Fo%2Fpost-message%2F'"
      ]
     },
     "execution_count": 22,
     "metadata": {},
     "output_type": "execute_result"
    }
   ],
   "source": [
    "urlencode({\n",
    "    'response_type': 'code',\n",
    "    'client_id': client_id,\n",
    "    'redirect_uri': beatport_redirect_uri\n",
    "})"
   ]
  },
  {
   "cell_type": "code",
   "execution_count": 25,
   "metadata": {},
   "outputs": [
    {
     "data": {
      "text/plain": [
       "{'server': 'envoy', 'date': 'Mon, 08 Jan 2024 09:57:05 GMT', 'content-type': 'text/html; charset=utf-8', 'Content-Length': '0', 'location': '/v4/auth/login/?next=/v4/auth/o/authorize/%3Fresponse_type%3Dcode%26client_id%3D0GIvkCltVIuPkkwSJHp6NDb3s0potTjLBQr388Dd%26redirect_uri%3Dhttps%253A%252F%252Fapi.beatport.com%252Fv4%252Fauth%252Fo%252Fpost-message%252F', 'x-frame-options': 'DENY', 'vary': 'origin, Authorization, Cookie', 'x-content-type-options': 'nosniff', 'referrer-policy': 'same-origin', 'x-envoy-upstream-service-time': '11', 'Via': '1.1 google', 'Alt-Svc': 'h3=\":443\"; ma=2592000,h3-29=\":443\"; ma=2592000'}"
      ]
     },
     "execution_count": 25,
     "metadata": {},
     "output_type": "execute_result"
    }
   ],
   "source": [
    "query = urlencode({\n",
    "    'response_type': 'code',\n",
    "    'client_id': client_id,\n",
    "    'redirect_uri': beatport_redirect_uri\n",
    "})\n",
    "response = get(url=f'{beatport_base_url}/auth/o/authorize/?{query}', allow_redirects=False)\n",
    "response.headers"
   ]
  }
 ],
 "metadata": {
  "kernelspec": {
   "display_name": "Python 3",
   "language": "python",
   "name": "python3"
  },
  "language_info": {
   "codemirror_mode": {
    "name": "ipython",
    "version": 3
   },
   "file_extension": ".py",
   "mimetype": "text/x-python",
   "name": "python",
   "nbconvert_exporter": "python",
   "pygments_lexer": "ipython3",
   "version": "3.11.6"
  }
 },
 "nbformat": 4,
 "nbformat_minor": 2
}
