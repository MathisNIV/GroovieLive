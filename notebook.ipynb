{
 "cells": [
  {
   "cell_type": "markdown",
   "metadata": {},
   "source": [
    "# Imports"
   ]
  },
  {
   "cell_type": "code",
   "execution_count": 1,
   "metadata": {},
   "outputs": [],
   "source": [
    "from urllib.parse import urlparse, parse_qs, urlencode\n",
    "from requests import get, post, Session\n",
    "from getpass import getpass\n",
    "from re import findall"
   ]
  },
  {
   "cell_type": "markdown",
   "metadata": {},
   "source": [
    "# Get token"
   ]
  },
  {
   "cell_type": "markdown",
   "metadata": {},
   "source": [
    "## Urls def"
   ]
  },
  {
   "cell_type": "code",
   "execution_count": 2,
   "metadata": {},
   "outputs": [],
   "source": [
    "beatport_base_url = 'https://api.beatport.com/v4'\n",
    "beatport_redirect_uri = beatport_base_url + '/auth/o/post-message/'"
   ]
  },
  {
   "cell_type": "markdown",
   "metadata": {},
   "source": [
    "## Get client id"
   ]
  },
  {
   "cell_type": "code",
   "execution_count": 3,
   "metadata": {},
   "outputs": [
    {
     "name": "stdout",
     "output_type": "stream",
     "text": [
      "/static/btprt/sentry.js\n",
      "/static/btprt/cb7c25830019c7384e99.js\n",
      "/static/btprt/5a6a7454820aa6fc6366.js\n",
      "/static/btprt/b08ba1200741e40ed1e7.js\n",
      "/static/btprt/dfbe36b305cf113177e7.js\n",
      "/static/btprt/6a17459eef4fe0bc0b50.js\n",
      "/static/btprt/7aff86dea244ea63662a.js\n"
     ]
    },
    {
     "data": {
      "text/plain": [
       "'0GIvkCltVIuPkkwSJHp6NDb3s0potTjLBQr388Dd'"
      ]
     },
     "execution_count": 3,
     "metadata": {},
     "output_type": "execute_result"
    }
   ],
   "source": [
    "client_id = ''\n",
    "html = get('https://api.beatport.com/v4/docs/').content.decode('utf-8')\n",
    "scripts_matches = findall(r\"src=.(.*js)\", html)\n",
    "for script_url in scripts_matches:\n",
    "    print(script_url)\n",
    "    url = 'https://api.beatport.com{}'.format(script_url)\n",
    "    js = get(url.format(script_url)).content.decode('utf-8')\n",
    "    client_id_matches = findall(r\"API_CLIENT_ID: \\'(.*)\\'\", js)\n",
    "    if client_id_matches:\n",
    "        client_id = client_id_matches[0]\n",
    "client_id"
   ]
  },
  {
   "cell_type": "code",
   "execution_count": 4,
   "metadata": {},
   "outputs": [],
   "source": [
    "client_id = '0GIvkCltVIuPkkwSJHp6NDb3s0potTjLBQr388Dd'"
   ]
  },
  {
   "cell_type": "markdown",
   "metadata": {},
   "source": [
    "## Login"
   ]
  },
  {
   "cell_type": "code",
   "execution_count": 5,
   "metadata": {},
   "outputs": [],
   "source": [
    "sess = Session()"
   ]
  },
  {
   "cell_type": "code",
   "execution_count": 14,
   "metadata": {},
   "outputs": [
    {
     "ename": "KeyboardInterrupt",
     "evalue": "",
     "output_type": "error",
     "traceback": [
      "\u001b[0;31m---------------------------------------------------------------------------\u001b[0m",
      "\u001b[0;31mKeyboardInterrupt\u001b[0m                         Traceback (most recent call last)",
      "Cell \u001b[0;32mIn[14], line 1\u001b[0m\n\u001b[0;32m----> 1\u001b[0m response \u001b[38;5;241m=\u001b[39m \u001b[43msess\u001b[49m\u001b[38;5;241;43m.\u001b[39;49m\u001b[43mpost\u001b[49m\u001b[43m(\u001b[49m\u001b[43murl\u001b[49m\u001b[38;5;241;43m=\u001b[39;49m\u001b[43mbeatport_base_url\u001b[49m\u001b[43m \u001b[49m\u001b[38;5;241;43m+\u001b[39;49m\u001b[43m \u001b[49m\u001b[38;5;124;43m'\u001b[39;49m\u001b[38;5;124;43m/auth/login\u001b[39;49m\u001b[38;5;124;43m'\u001b[39;49m\u001b[43m,\u001b[49m\u001b[43m \u001b[49m\n\u001b[1;32m      2\u001b[0m \u001b[43m                     \u001b[49m\u001b[43mjson\u001b[49m\u001b[38;5;241;43m=\u001b[39;49m\u001b[43m{\u001b[49m\u001b[38;5;124;43m'\u001b[39;49m\u001b[38;5;124;43musername\u001b[39;49m\u001b[38;5;124;43m'\u001b[39;49m\u001b[43m:\u001b[49m\u001b[43m \u001b[49m\u001b[38;5;28;43minput\u001b[39;49m\u001b[43m(\u001b[49m\u001b[38;5;124;43m\"\u001b[39;49m\u001b[38;5;124;43mEnter your username: \u001b[39;49m\u001b[38;5;124;43m\"\u001b[39;49m\u001b[43m)\u001b[49m\u001b[43m,\u001b[49m\n\u001b[1;32m      3\u001b[0m \u001b[43m                           \u001b[49m\u001b[38;5;124;43m'\u001b[39;49m\u001b[38;5;124;43mpassword\u001b[39;49m\u001b[38;5;124;43m'\u001b[39;49m\u001b[43m:\u001b[49m\u001b[43m \u001b[49m\u001b[43mgetpass\u001b[49m\u001b[43m(\u001b[49m\u001b[38;5;124;43m\"\u001b[39;49m\u001b[38;5;124;43mEnter your password: \u001b[39;49m\u001b[38;5;124;43m\"\u001b[39;49m\u001b[43m)\u001b[49m\u001b[43m}\u001b[49m\u001b[43m)\u001b[49m\n",
      "File \u001b[0;32m/usr/lib/python3/dist-packages/requests/sessions.py:637\u001b[0m, in \u001b[0;36mSession.post\u001b[0;34m(self, url, data, json, **kwargs)\u001b[0m\n\u001b[1;32m    626\u001b[0m \u001b[38;5;28;01mdef\u001b[39;00m \u001b[38;5;21mpost\u001b[39m(\u001b[38;5;28mself\u001b[39m, url, data\u001b[38;5;241m=\u001b[39m\u001b[38;5;28;01mNone\u001b[39;00m, json\u001b[38;5;241m=\u001b[39m\u001b[38;5;28;01mNone\u001b[39;00m, \u001b[38;5;241m*\u001b[39m\u001b[38;5;241m*\u001b[39mkwargs):\n\u001b[1;32m    627\u001b[0m \u001b[38;5;250m    \u001b[39m\u001b[38;5;124mr\u001b[39m\u001b[38;5;124;03m\"\"\"Sends a POST request. Returns :class:`Response` object.\u001b[39;00m\n\u001b[1;32m    628\u001b[0m \n\u001b[1;32m    629\u001b[0m \u001b[38;5;124;03m    :param url: URL for the new :class:`Request` object.\u001b[39;00m\n\u001b[0;32m   (...)\u001b[0m\n\u001b[1;32m    634\u001b[0m \u001b[38;5;124;03m    :rtype: requests.Response\u001b[39;00m\n\u001b[1;32m    635\u001b[0m \u001b[38;5;124;03m    \"\"\"\u001b[39;00m\n\u001b[0;32m--> 637\u001b[0m     \u001b[38;5;28;01mreturn\u001b[39;00m \u001b[38;5;28;43mself\u001b[39;49m\u001b[38;5;241;43m.\u001b[39;49m\u001b[43mrequest\u001b[49m\u001b[43m(\u001b[49m\u001b[38;5;124;43m\"\u001b[39;49m\u001b[38;5;124;43mPOST\u001b[39;49m\u001b[38;5;124;43m\"\u001b[39;49m\u001b[43m,\u001b[49m\u001b[43m \u001b[49m\u001b[43murl\u001b[49m\u001b[43m,\u001b[49m\u001b[43m \u001b[49m\u001b[43mdata\u001b[49m\u001b[38;5;241;43m=\u001b[39;49m\u001b[43mdata\u001b[49m\u001b[43m,\u001b[49m\u001b[43m \u001b[49m\u001b[43mjson\u001b[49m\u001b[38;5;241;43m=\u001b[39;49m\u001b[43mjson\u001b[49m\u001b[43m,\u001b[49m\u001b[43m \u001b[49m\u001b[38;5;241;43m*\u001b[39;49m\u001b[38;5;241;43m*\u001b[39;49m\u001b[43mkwargs\u001b[49m\u001b[43m)\u001b[49m\n",
      "File \u001b[0;32m/usr/lib/python3/dist-packages/requests/sessions.py:589\u001b[0m, in \u001b[0;36mSession.request\u001b[0;34m(self, method, url, params, data, headers, cookies, files, auth, timeout, allow_redirects, proxies, hooks, stream, verify, cert, json)\u001b[0m\n\u001b[1;32m    584\u001b[0m send_kwargs \u001b[38;5;241m=\u001b[39m {\n\u001b[1;32m    585\u001b[0m     \u001b[38;5;124m\"\u001b[39m\u001b[38;5;124mtimeout\u001b[39m\u001b[38;5;124m\"\u001b[39m: timeout,\n\u001b[1;32m    586\u001b[0m     \u001b[38;5;124m\"\u001b[39m\u001b[38;5;124mallow_redirects\u001b[39m\u001b[38;5;124m\"\u001b[39m: allow_redirects,\n\u001b[1;32m    587\u001b[0m }\n\u001b[1;32m    588\u001b[0m send_kwargs\u001b[38;5;241m.\u001b[39mupdate(settings)\n\u001b[0;32m--> 589\u001b[0m resp \u001b[38;5;241m=\u001b[39m \u001b[38;5;28;43mself\u001b[39;49m\u001b[38;5;241;43m.\u001b[39;49m\u001b[43msend\u001b[49m\u001b[43m(\u001b[49m\u001b[43mprep\u001b[49m\u001b[43m,\u001b[49m\u001b[43m \u001b[49m\u001b[38;5;241;43m*\u001b[39;49m\u001b[38;5;241;43m*\u001b[39;49m\u001b[43msend_kwargs\u001b[49m\u001b[43m)\u001b[49m\n\u001b[1;32m    591\u001b[0m \u001b[38;5;28;01mreturn\u001b[39;00m resp\n",
      "File \u001b[0;32m/usr/lib/python3/dist-packages/requests/sessions.py:703\u001b[0m, in \u001b[0;36mSession.send\u001b[0;34m(self, request, **kwargs)\u001b[0m\n\u001b[1;32m    700\u001b[0m start \u001b[38;5;241m=\u001b[39m preferred_clock()\n\u001b[1;32m    702\u001b[0m \u001b[38;5;66;03m# Send the request\u001b[39;00m\n\u001b[0;32m--> 703\u001b[0m r \u001b[38;5;241m=\u001b[39m \u001b[43madapter\u001b[49m\u001b[38;5;241;43m.\u001b[39;49m\u001b[43msend\u001b[49m\u001b[43m(\u001b[49m\u001b[43mrequest\u001b[49m\u001b[43m,\u001b[49m\u001b[43m \u001b[49m\u001b[38;5;241;43m*\u001b[39;49m\u001b[38;5;241;43m*\u001b[39;49m\u001b[43mkwargs\u001b[49m\u001b[43m)\u001b[49m\n\u001b[1;32m    705\u001b[0m \u001b[38;5;66;03m# Total elapsed time of the request (approximately)\u001b[39;00m\n\u001b[1;32m    706\u001b[0m elapsed \u001b[38;5;241m=\u001b[39m preferred_clock() \u001b[38;5;241m-\u001b[39m start\n",
      "File \u001b[0;32m/usr/lib/python3/dist-packages/requests/adapters.py:486\u001b[0m, in \u001b[0;36mHTTPAdapter.send\u001b[0;34m(self, request, stream, timeout, verify, cert, proxies)\u001b[0m\n\u001b[1;32m    483\u001b[0m     timeout \u001b[38;5;241m=\u001b[39m TimeoutSauce(connect\u001b[38;5;241m=\u001b[39mtimeout, read\u001b[38;5;241m=\u001b[39mtimeout)\n\u001b[1;32m    485\u001b[0m \u001b[38;5;28;01mtry\u001b[39;00m:\n\u001b[0;32m--> 486\u001b[0m     resp \u001b[38;5;241m=\u001b[39m \u001b[43mconn\u001b[49m\u001b[38;5;241;43m.\u001b[39;49m\u001b[43murlopen\u001b[49m\u001b[43m(\u001b[49m\n\u001b[1;32m    487\u001b[0m \u001b[43m        \u001b[49m\u001b[43mmethod\u001b[49m\u001b[38;5;241;43m=\u001b[39;49m\u001b[43mrequest\u001b[49m\u001b[38;5;241;43m.\u001b[39;49m\u001b[43mmethod\u001b[49m\u001b[43m,\u001b[49m\n\u001b[1;32m    488\u001b[0m \u001b[43m        \u001b[49m\u001b[43murl\u001b[49m\u001b[38;5;241;43m=\u001b[39;49m\u001b[43murl\u001b[49m\u001b[43m,\u001b[49m\n\u001b[1;32m    489\u001b[0m \u001b[43m        \u001b[49m\u001b[43mbody\u001b[49m\u001b[38;5;241;43m=\u001b[39;49m\u001b[43mrequest\u001b[49m\u001b[38;5;241;43m.\u001b[39;49m\u001b[43mbody\u001b[49m\u001b[43m,\u001b[49m\n\u001b[1;32m    490\u001b[0m \u001b[43m        \u001b[49m\u001b[43mheaders\u001b[49m\u001b[38;5;241;43m=\u001b[39;49m\u001b[43mrequest\u001b[49m\u001b[38;5;241;43m.\u001b[39;49m\u001b[43mheaders\u001b[49m\u001b[43m,\u001b[49m\n\u001b[1;32m    491\u001b[0m \u001b[43m        \u001b[49m\u001b[43mredirect\u001b[49m\u001b[38;5;241;43m=\u001b[39;49m\u001b[38;5;28;43;01mFalse\u001b[39;49;00m\u001b[43m,\u001b[49m\n\u001b[1;32m    492\u001b[0m \u001b[43m        \u001b[49m\u001b[43massert_same_host\u001b[49m\u001b[38;5;241;43m=\u001b[39;49m\u001b[38;5;28;43;01mFalse\u001b[39;49;00m\u001b[43m,\u001b[49m\n\u001b[1;32m    493\u001b[0m \u001b[43m        \u001b[49m\u001b[43mpreload_content\u001b[49m\u001b[38;5;241;43m=\u001b[39;49m\u001b[38;5;28;43;01mFalse\u001b[39;49;00m\u001b[43m,\u001b[49m\n\u001b[1;32m    494\u001b[0m \u001b[43m        \u001b[49m\u001b[43mdecode_content\u001b[49m\u001b[38;5;241;43m=\u001b[39;49m\u001b[38;5;28;43;01mFalse\u001b[39;49;00m\u001b[43m,\u001b[49m\n\u001b[1;32m    495\u001b[0m \u001b[43m        \u001b[49m\u001b[43mretries\u001b[49m\u001b[38;5;241;43m=\u001b[39;49m\u001b[38;5;28;43mself\u001b[39;49m\u001b[38;5;241;43m.\u001b[39;49m\u001b[43mmax_retries\u001b[49m\u001b[43m,\u001b[49m\n\u001b[1;32m    496\u001b[0m \u001b[43m        \u001b[49m\u001b[43mtimeout\u001b[49m\u001b[38;5;241;43m=\u001b[39;49m\u001b[43mtimeout\u001b[49m\u001b[43m,\u001b[49m\n\u001b[1;32m    497\u001b[0m \u001b[43m        \u001b[49m\u001b[43mchunked\u001b[49m\u001b[38;5;241;43m=\u001b[39;49m\u001b[43mchunked\u001b[49m\u001b[43m,\u001b[49m\n\u001b[1;32m    498\u001b[0m \u001b[43m    \u001b[49m\u001b[43m)\u001b[49m\n\u001b[1;32m    500\u001b[0m \u001b[38;5;28;01mexcept\u001b[39;00m (ProtocolError, \u001b[38;5;167;01mOSError\u001b[39;00m) \u001b[38;5;28;01mas\u001b[39;00m err:\n\u001b[1;32m    501\u001b[0m     \u001b[38;5;28;01mraise\u001b[39;00m \u001b[38;5;167;01mConnectionError\u001b[39;00m(err, request\u001b[38;5;241m=\u001b[39mrequest)\n",
      "File \u001b[0;32m/usr/lib/python3/dist-packages/urllib3/connectionpool.py:716\u001b[0m, in \u001b[0;36mHTTPConnectionPool.urlopen\u001b[0;34m(self, method, url, body, headers, retries, redirect, assert_same_host, timeout, pool_timeout, release_conn, chunked, body_pos, **response_kw)\u001b[0m\n\u001b[1;32m    713\u001b[0m     \u001b[38;5;28mself\u001b[39m\u001b[38;5;241m.\u001b[39m_prepare_proxy(conn)\n\u001b[1;32m    715\u001b[0m \u001b[38;5;66;03m# Make the request on the httplib connection object.\u001b[39;00m\n\u001b[0;32m--> 716\u001b[0m httplib_response \u001b[38;5;241m=\u001b[39m \u001b[38;5;28;43mself\u001b[39;49m\u001b[38;5;241;43m.\u001b[39;49m\u001b[43m_make_request\u001b[49m\u001b[43m(\u001b[49m\n\u001b[1;32m    717\u001b[0m \u001b[43m    \u001b[49m\u001b[43mconn\u001b[49m\u001b[43m,\u001b[49m\n\u001b[1;32m    718\u001b[0m \u001b[43m    \u001b[49m\u001b[43mmethod\u001b[49m\u001b[43m,\u001b[49m\n\u001b[1;32m    719\u001b[0m \u001b[43m    \u001b[49m\u001b[43murl\u001b[49m\u001b[43m,\u001b[49m\n\u001b[1;32m    720\u001b[0m \u001b[43m    \u001b[49m\u001b[43mtimeout\u001b[49m\u001b[38;5;241;43m=\u001b[39;49m\u001b[43mtimeout_obj\u001b[49m\u001b[43m,\u001b[49m\n\u001b[1;32m    721\u001b[0m \u001b[43m    \u001b[49m\u001b[43mbody\u001b[49m\u001b[38;5;241;43m=\u001b[39;49m\u001b[43mbody\u001b[49m\u001b[43m,\u001b[49m\n\u001b[1;32m    722\u001b[0m \u001b[43m    \u001b[49m\u001b[43mheaders\u001b[49m\u001b[38;5;241;43m=\u001b[39;49m\u001b[43mheaders\u001b[49m\u001b[43m,\u001b[49m\n\u001b[1;32m    723\u001b[0m \u001b[43m    \u001b[49m\u001b[43mchunked\u001b[49m\u001b[38;5;241;43m=\u001b[39;49m\u001b[43mchunked\u001b[49m\u001b[43m,\u001b[49m\n\u001b[1;32m    724\u001b[0m \u001b[43m\u001b[49m\u001b[43m)\u001b[49m\n\u001b[1;32m    726\u001b[0m \u001b[38;5;66;03m# If we're going to release the connection in ``finally:``, then\u001b[39;00m\n\u001b[1;32m    727\u001b[0m \u001b[38;5;66;03m# the response doesn't need to know about the connection. Otherwise\u001b[39;00m\n\u001b[1;32m    728\u001b[0m \u001b[38;5;66;03m# it will also try to release it and we'll have a double-release\u001b[39;00m\n\u001b[1;32m    729\u001b[0m \u001b[38;5;66;03m# mess.\u001b[39;00m\n\u001b[1;32m    730\u001b[0m response_conn \u001b[38;5;241m=\u001b[39m conn \u001b[38;5;28;01mif\u001b[39;00m \u001b[38;5;129;01mnot\u001b[39;00m release_conn \u001b[38;5;28;01melse\u001b[39;00m \u001b[38;5;28;01mNone\u001b[39;00m\n",
      "File \u001b[0;32m/usr/lib/python3/dist-packages/urllib3/connectionpool.py:468\u001b[0m, in \u001b[0;36mHTTPConnectionPool._make_request\u001b[0;34m(self, conn, method, url, timeout, chunked, **httplib_request_kw)\u001b[0m\n\u001b[1;32m    463\u001b[0m             httplib_response \u001b[38;5;241m=\u001b[39m conn\u001b[38;5;241m.\u001b[39mgetresponse()\n\u001b[1;32m    464\u001b[0m         \u001b[38;5;28;01mexcept\u001b[39;00m \u001b[38;5;167;01mBaseException\u001b[39;00m \u001b[38;5;28;01mas\u001b[39;00m e:\n\u001b[1;32m    465\u001b[0m             \u001b[38;5;66;03m# Remove the TypeError from the exception chain in\u001b[39;00m\n\u001b[1;32m    466\u001b[0m             \u001b[38;5;66;03m# Python 3 (including for exceptions like SystemExit).\u001b[39;00m\n\u001b[1;32m    467\u001b[0m             \u001b[38;5;66;03m# Otherwise it looks like a bug in the code.\u001b[39;00m\n\u001b[0;32m--> 468\u001b[0m             \u001b[43msix\u001b[49m\u001b[38;5;241;43m.\u001b[39;49m\u001b[43mraise_from\u001b[49m\u001b[43m(\u001b[49m\u001b[43me\u001b[49m\u001b[43m,\u001b[49m\u001b[43m \u001b[49m\u001b[38;5;28;43;01mNone\u001b[39;49;00m\u001b[43m)\u001b[49m\n\u001b[1;32m    469\u001b[0m \u001b[38;5;28;01mexcept\u001b[39;00m (SocketTimeout, BaseSSLError, SocketError) \u001b[38;5;28;01mas\u001b[39;00m e:\n\u001b[1;32m    470\u001b[0m     \u001b[38;5;28mself\u001b[39m\u001b[38;5;241m.\u001b[39m_raise_timeout(err\u001b[38;5;241m=\u001b[39me, url\u001b[38;5;241m=\u001b[39murl, timeout_value\u001b[38;5;241m=\u001b[39mread_timeout)\n",
      "File \u001b[0;32m<string>:3\u001b[0m, in \u001b[0;36mraise_from\u001b[0;34m(value, from_value)\u001b[0m\n",
      "File \u001b[0;32m/usr/lib/python3/dist-packages/urllib3/connectionpool.py:463\u001b[0m, in \u001b[0;36mHTTPConnectionPool._make_request\u001b[0;34m(self, conn, method, url, timeout, chunked, **httplib_request_kw)\u001b[0m\n\u001b[1;32m    460\u001b[0m \u001b[38;5;28;01mexcept\u001b[39;00m \u001b[38;5;167;01mTypeError\u001b[39;00m:\n\u001b[1;32m    461\u001b[0m     \u001b[38;5;66;03m# Python 3\u001b[39;00m\n\u001b[1;32m    462\u001b[0m     \u001b[38;5;28;01mtry\u001b[39;00m:\n\u001b[0;32m--> 463\u001b[0m         httplib_response \u001b[38;5;241m=\u001b[39m \u001b[43mconn\u001b[49m\u001b[38;5;241;43m.\u001b[39;49m\u001b[43mgetresponse\u001b[49m\u001b[43m(\u001b[49m\u001b[43m)\u001b[49m\n\u001b[1;32m    464\u001b[0m     \u001b[38;5;28;01mexcept\u001b[39;00m \u001b[38;5;167;01mBaseException\u001b[39;00m \u001b[38;5;28;01mas\u001b[39;00m e:\n\u001b[1;32m    465\u001b[0m         \u001b[38;5;66;03m# Remove the TypeError from the exception chain in\u001b[39;00m\n\u001b[1;32m    466\u001b[0m         \u001b[38;5;66;03m# Python 3 (including for exceptions like SystemExit).\u001b[39;00m\n\u001b[1;32m    467\u001b[0m         \u001b[38;5;66;03m# Otherwise it looks like a bug in the code.\u001b[39;00m\n\u001b[1;32m    468\u001b[0m         six\u001b[38;5;241m.\u001b[39mraise_from(e, \u001b[38;5;28;01mNone\u001b[39;00m)\n",
      "File \u001b[0;32m/usr/lib/python3.11/http/client.py:1378\u001b[0m, in \u001b[0;36mHTTPConnection.getresponse\u001b[0;34m(self)\u001b[0m\n\u001b[1;32m   1376\u001b[0m \u001b[38;5;28;01mtry\u001b[39;00m:\n\u001b[1;32m   1377\u001b[0m     \u001b[38;5;28;01mtry\u001b[39;00m:\n\u001b[0;32m-> 1378\u001b[0m         \u001b[43mresponse\u001b[49m\u001b[38;5;241;43m.\u001b[39;49m\u001b[43mbegin\u001b[49m\u001b[43m(\u001b[49m\u001b[43m)\u001b[49m\n\u001b[1;32m   1379\u001b[0m     \u001b[38;5;28;01mexcept\u001b[39;00m \u001b[38;5;167;01mConnectionError\u001b[39;00m:\n\u001b[1;32m   1380\u001b[0m         \u001b[38;5;28mself\u001b[39m\u001b[38;5;241m.\u001b[39mclose()\n",
      "File \u001b[0;32m/usr/lib/python3.11/http/client.py:318\u001b[0m, in \u001b[0;36mHTTPResponse.begin\u001b[0;34m(self)\u001b[0m\n\u001b[1;32m    316\u001b[0m \u001b[38;5;66;03m# read until we get a non-100 response\u001b[39;00m\n\u001b[1;32m    317\u001b[0m \u001b[38;5;28;01mwhile\u001b[39;00m \u001b[38;5;28;01mTrue\u001b[39;00m:\n\u001b[0;32m--> 318\u001b[0m     version, status, reason \u001b[38;5;241m=\u001b[39m \u001b[38;5;28;43mself\u001b[39;49m\u001b[38;5;241;43m.\u001b[39;49m\u001b[43m_read_status\u001b[49m\u001b[43m(\u001b[49m\u001b[43m)\u001b[49m\n\u001b[1;32m    319\u001b[0m     \u001b[38;5;28;01mif\u001b[39;00m status \u001b[38;5;241m!=\u001b[39m CONTINUE:\n\u001b[1;32m    320\u001b[0m         \u001b[38;5;28;01mbreak\u001b[39;00m\n",
      "File \u001b[0;32m/usr/lib/python3.11/http/client.py:279\u001b[0m, in \u001b[0;36mHTTPResponse._read_status\u001b[0;34m(self)\u001b[0m\n\u001b[1;32m    278\u001b[0m \u001b[38;5;28;01mdef\u001b[39;00m \u001b[38;5;21m_read_status\u001b[39m(\u001b[38;5;28mself\u001b[39m):\n\u001b[0;32m--> 279\u001b[0m     line \u001b[38;5;241m=\u001b[39m \u001b[38;5;28mstr\u001b[39m(\u001b[38;5;28mself\u001b[39m\u001b[38;5;241m.\u001b[39mfp\u001b[38;5;241m.\u001b[39mreadline(_MAXLINE \u001b[38;5;241m+\u001b[39m \u001b[38;5;241m1\u001b[39m), \u001b[38;5;124m\"\u001b[39m\u001b[38;5;124miso-8859-1\u001b[39m\u001b[38;5;124m\"\u001b[39m)\n\u001b[1;32m    280\u001b[0m     \u001b[38;5;28;01mif\u001b[39;00m \u001b[38;5;28mlen\u001b[39m(line) \u001b[38;5;241m>\u001b[39m _MAXLINE:\n\u001b[1;32m    281\u001b[0m         \u001b[38;5;28;01mraise\u001b[39;00m LineTooLong(\u001b[38;5;124m\"\u001b[39m\u001b[38;5;124mstatus line\u001b[39m\u001b[38;5;124m\"\u001b[39m)\n",
      "File \u001b[0;32m/usr/lib/python3.11/socket.py:706\u001b[0m, in \u001b[0;36mSocketIO.readinto\u001b[0;34m(self, b)\u001b[0m\n\u001b[1;32m    704\u001b[0m \u001b[38;5;28;01mwhile\u001b[39;00m \u001b[38;5;28;01mTrue\u001b[39;00m:\n\u001b[1;32m    705\u001b[0m     \u001b[38;5;28;01mtry\u001b[39;00m:\n\u001b[0;32m--> 706\u001b[0m         \u001b[38;5;28;01mreturn\u001b[39;00m \u001b[38;5;28;43mself\u001b[39;49m\u001b[38;5;241;43m.\u001b[39;49m\u001b[43m_sock\u001b[49m\u001b[38;5;241;43m.\u001b[39;49m\u001b[43mrecv_into\u001b[49m\u001b[43m(\u001b[49m\u001b[43mb\u001b[49m\u001b[43m)\u001b[49m\n\u001b[1;32m    707\u001b[0m     \u001b[38;5;28;01mexcept\u001b[39;00m timeout:\n\u001b[1;32m    708\u001b[0m         \u001b[38;5;28mself\u001b[39m\u001b[38;5;241m.\u001b[39m_timeout_occurred \u001b[38;5;241m=\u001b[39m \u001b[38;5;28;01mTrue\u001b[39;00m\n",
      "File \u001b[0;32m/usr/lib/python3.11/ssl.py:1311\u001b[0m, in \u001b[0;36mSSLSocket.recv_into\u001b[0;34m(self, buffer, nbytes, flags)\u001b[0m\n\u001b[1;32m   1307\u001b[0m     \u001b[38;5;28;01mif\u001b[39;00m flags \u001b[38;5;241m!=\u001b[39m \u001b[38;5;241m0\u001b[39m:\n\u001b[1;32m   1308\u001b[0m         \u001b[38;5;28;01mraise\u001b[39;00m \u001b[38;5;167;01mValueError\u001b[39;00m(\n\u001b[1;32m   1309\u001b[0m           \u001b[38;5;124m\"\u001b[39m\u001b[38;5;124mnon-zero flags not allowed in calls to recv_into() on \u001b[39m\u001b[38;5;132;01m%s\u001b[39;00m\u001b[38;5;124m\"\u001b[39m \u001b[38;5;241m%\u001b[39m\n\u001b[1;32m   1310\u001b[0m           \u001b[38;5;28mself\u001b[39m\u001b[38;5;241m.\u001b[39m\u001b[38;5;18m__class__\u001b[39m)\n\u001b[0;32m-> 1311\u001b[0m     \u001b[38;5;28;01mreturn\u001b[39;00m \u001b[38;5;28;43mself\u001b[39;49m\u001b[38;5;241;43m.\u001b[39;49m\u001b[43mread\u001b[49m\u001b[43m(\u001b[49m\u001b[43mnbytes\u001b[49m\u001b[43m,\u001b[49m\u001b[43m \u001b[49m\u001b[43mbuffer\u001b[49m\u001b[43m)\u001b[49m\n\u001b[1;32m   1312\u001b[0m \u001b[38;5;28;01melse\u001b[39;00m:\n\u001b[1;32m   1313\u001b[0m     \u001b[38;5;28;01mreturn\u001b[39;00m \u001b[38;5;28msuper\u001b[39m()\u001b[38;5;241m.\u001b[39mrecv_into(buffer, nbytes, flags)\n",
      "File \u001b[0;32m/usr/lib/python3.11/ssl.py:1167\u001b[0m, in \u001b[0;36mSSLSocket.read\u001b[0;34m(self, len, buffer)\u001b[0m\n\u001b[1;32m   1165\u001b[0m \u001b[38;5;28;01mtry\u001b[39;00m:\n\u001b[1;32m   1166\u001b[0m     \u001b[38;5;28;01mif\u001b[39;00m buffer \u001b[38;5;129;01mis\u001b[39;00m \u001b[38;5;129;01mnot\u001b[39;00m \u001b[38;5;28;01mNone\u001b[39;00m:\n\u001b[0;32m-> 1167\u001b[0m         \u001b[38;5;28;01mreturn\u001b[39;00m \u001b[38;5;28;43mself\u001b[39;49m\u001b[38;5;241;43m.\u001b[39;49m\u001b[43m_sslobj\u001b[49m\u001b[38;5;241;43m.\u001b[39;49m\u001b[43mread\u001b[49m\u001b[43m(\u001b[49m\u001b[38;5;28;43mlen\u001b[39;49m\u001b[43m,\u001b[49m\u001b[43m \u001b[49m\u001b[43mbuffer\u001b[49m\u001b[43m)\u001b[49m\n\u001b[1;32m   1168\u001b[0m     \u001b[38;5;28;01melse\u001b[39;00m:\n\u001b[1;32m   1169\u001b[0m         \u001b[38;5;28;01mreturn\u001b[39;00m \u001b[38;5;28mself\u001b[39m\u001b[38;5;241m.\u001b[39m_sslobj\u001b[38;5;241m.\u001b[39mread(\u001b[38;5;28mlen\u001b[39m)\n",
      "\u001b[0;31mKeyboardInterrupt\u001b[0m: "
     ]
    }
   ],
   "source": [
    "response = sess.post(url=beatport_base_url + '/auth/login', \n",
    "                     json={'username': input(\"Enter your username: \"),\n",
    "                           'password': getpass(\"Enter your password: \")})"
   ]
  },
  {
   "cell_type": "code",
   "execution_count": null,
   "metadata": {},
   "outputs": [
    {
     "data": {
      "text/plain": [
       "<Response [200]>"
      ]
     },
     "execution_count": 7,
     "metadata": {},
     "output_type": "execute_result"
    }
   ],
   "source": [
    "response"
   ]
  },
  {
   "cell_type": "markdown",
   "metadata": {},
   "source": [
    "## Authorization code"
   ]
  },
  {
   "cell_type": "code",
   "execution_count": 8,
   "metadata": {},
   "outputs": [
    {
     "data": {
      "text/plain": [
       "'https://api.beatport.com/v4/auth/o/authorize/?client_id=0GIvkCltVIuPkkwSJHp6NDb3s0potTjLBQr388Dd&response_type=code&redirect_uri=https%3A%2F%2Fapi.beatport.com%2Fv4%2Fauth%2Fo%2Fpost-message%2F'"
      ]
     },
     "execution_count": 8,
     "metadata": {},
     "output_type": "execute_result"
    }
   ],
   "source": [
    "query = urlencode({\n",
    "    'client_id': client_id,\n",
    "    'response_type': 'code',\n",
    "    'redirect_uri': beatport_redirect_uri\n",
    "})\n",
    "response = sess.get(url=f'{beatport_base_url}/auth/o/authorize/?{query}', allow_redirects=False)\n",
    "response.url"
   ]
  },
  {
   "cell_type": "code",
   "execution_count": 9,
   "metadata": {},
   "outputs": [
    {
     "data": {
      "text/plain": [
       "'Qcj5Jx4QGkuE7LkJvZ8zxmuwd90xeg'"
      ]
     },
     "execution_count": 9,
     "metadata": {},
     "output_type": "execute_result"
    }
   ],
   "source": [
    "next_url = urlparse(beatport_base_url + response.headers['Location'])\n",
    "auth_code = parse_qs(next_url.query)['code'][0]\n",
    "auth_code"
   ]
  },
  {
   "cell_type": "code",
   "execution_count": 10,
   "metadata": {},
   "outputs": [
    {
     "data": {
      "text/plain": [
       "{'code': ['Qcj5Jx4QGkuE7LkJvZ8zxmuwd90xeg'],\n",
       " 'target': ['https://api.beatport.com']}"
      ]
     },
     "execution_count": 10,
     "metadata": {},
     "output_type": "execute_result"
    }
   ],
   "source": [
    "parse_qs(next_url.query)"
   ]
  },
  {
   "cell_type": "code",
   "execution_count": 11,
   "metadata": {},
   "outputs": [
    {
     "data": {
      "text/plain": [
       "{'access_token': 'y4tfISMw6VvowM8y6MKQ5WFnHS5oMn',\n",
       " 'expires_in': 36000,\n",
       " 'token_type': 'Bearer',\n",
       " 'scope': 'app:docs user:dj',\n",
       " 'refresh_token': 'Ro90w6ChJdzUL1dVPQCKyrluNq3v5N'}"
      ]
     },
     "execution_count": 11,
     "metadata": {},
     "output_type": "execute_result"
    }
   ],
   "source": [
    "query = urlencode({\n",
    "    'code': auth_code,\n",
    "    'grant_type': 'authorization_code',\n",
    "    'redirect_uri': beatport_redirect_uri,\n",
    "    'client_id': client_id\n",
    "})\n",
    "response = sess.post(url=beatport_base_url+'/auth/o/token/?'+query)\n",
    "token = response.json()\n",
    "token"
   ]
  },
  {
   "cell_type": "markdown",
   "metadata": {},
   "source": [
    "## Test requests"
   ]
  },
  {
   "cell_type": "code",
   "execution_count": 12,
   "metadata": {},
   "outputs": [],
   "source": [
    "headers = {'User-Agent': 'Mozilla/5.0 (X11; Ubuntu; Linux x86_64; rv:81.0) Gecko/20100101 Firefox/81.0',\n",
    "           'Authorization': f'Bearer {token[\"access_token\"]}'}"
   ]
  },
  {
   "cell_type": "code",
   "execution_count": 13,
   "metadata": {},
   "outputs": [
    {
     "data": {
      "text/plain": [
       "{'tracks': [{'artists': [{'id': 4178,\n",
       "     'image': {'id': 26803617,\n",
       "      'uri': 'https://geo-media.beatport.com/image_size/590x404/846683c6-4b4d-44db-8ebe-13d5d3cd5f92.jpg',\n",
       "      'dynamic_uri': 'https://geo-media.beatport.com/image_size/{w}x{h}/846683c6-4b4d-44db-8ebe-13d5d3cd5f92.jpg'},\n",
       "     'name': 'Tiesto',\n",
       "     'slug': 'tiesto',\n",
       "     'url': 'https://api.beatport.com/v4/catalog/artists/4178/'}],\n",
       "   'publish_status': 'published',\n",
       "   'available_worldwide': False,\n",
       "   'bpm': 122,\n",
       "   'catalog_number': '5054197482496',\n",
       "   'current_status': {'id': 10,\n",
       "    'name': 'General Content',\n",
       "    'url': 'https://api.beatport.com/v4/auxiliary/current-status/10/'},\n",
       "   'encoded_date': '2022-12-02T13:08:56-07:00',\n",
       "   'exclusive': False,\n",
       "   'free_downloads': [],\n",
       "   'free_download_start_date': None,\n",
       "   'free_download_end_date': None,\n",
       "   'genre': {'id': 39,\n",
       "    'name': 'Dance / Electro Pop',\n",
       "    'slug': 'dance-electro-pop',\n",
       "    'url': 'https://api.beatport.com/v4/catalog/genres/39/'},\n",
       "   'id': 17189283,\n",
       "   'image': {'id': 32889267,\n",
       "    'uri': 'https://geo-media.beatport.com/image_size/1500x250/5bcc71ca-603c-4a3c-abf1-6e0e2c8e7eb4.png',\n",
       "    'dynamic_uri': 'https://geo-media.beatport.com/image_size/{w}x{h}/5bcc71ca-603c-4a3c-abf1-6e0e2c8e7eb4.png'},\n",
       "   'is_available_for_streaming': True,\n",
       "   'isrc': 'NLZ542202349',\n",
       "   'key': {'camelot_number': 12,\n",
       "    'camelot_letter': 'A',\n",
       "    'chord_type': {'id': 1,\n",
       "     'name': 'Minor',\n",
       "     'url': 'https://api.beatport.com/v4/catalog/chord-types/1/'},\n",
       "    'id': 12,\n",
       "    'is_sharp': False,\n",
       "    'is_flat': True,\n",
       "    'letter': 'D',\n",
       "    'name': 'Db Minor',\n",
       "    'url': 'https://api.beatport.com/v4/catalog/keys/12/'},\n",
       "   'label_track_identifier': None,\n",
       "   'length': '3:36',\n",
       "   'length_ms': 216393,\n",
       "   'mix_name': 'Extended Mix',\n",
       "   'name': 'Lay Low',\n",
       "   'new_release_date': '2023-01-06',\n",
       "   'pre_order': False,\n",
       "   'pre_order_date': None,\n",
       "   'price': {'code': 'EUR', 'symbol': '€', 'value': 1.39, 'display': '€1.39'},\n",
       "   'publish_date': '2023-01-06',\n",
       "   'release': {'id': 3954246,\n",
       "    'name': 'Lay Low (Extended Mix)',\n",
       "    'image': {'id': 32889219,\n",
       "     'uri': 'https://geo-media.beatport.com/image_size/1400x1400/5b492a1a-35ca-4580-adef-f765a4756cd7.jpg',\n",
       "     'dynamic_uri': 'https://geo-media.beatport.com/image_size/{w}x{h}/5b492a1a-35ca-4580-adef-f765a4756cd7.jpg'},\n",
       "    'label': {'id': 14175,\n",
       "     'name': 'Musical Freedom',\n",
       "     'image': {'id': 15631789,\n",
       "      'uri': 'https://geo-media.beatport.com/image_size/500x500/bb00c92d-eb16-4775-a955-6135e1e1bbf8.jpg',\n",
       "      'dynamic_uri': 'https://geo-media.beatport.com/image_size/{w}x{h}/bb00c92d-eb16-4775-a955-6135e1e1bbf8.jpg'},\n",
       "     'slug': 'musical-freedom'},\n",
       "    'slug': 'lay-low-extended-mix'},\n",
       "   'remixers': [],\n",
       "   'sale_type': {'id': 1,\n",
       "    'name': 'purchase',\n",
       "    'url': 'https://api.beatport.com/v4/auxiliary/sale-types/1/'},\n",
       "   'sample_url': 'https://geo-samples.beatport.com/track/5bcc71ca-603c-4a3c-abf1-6e0e2c8e7eb4.LOFI.mp3',\n",
       "   'sample_start_ms': 86557,\n",
       "   'sample_end_ms': 206557,\n",
       "   'slug': 'lay-low',\n",
       "   'sub_genre': None,\n",
       "   'url': 'https://api.beatport.com/v4/catalog/tracks/17189283/',\n",
       "   'is_hype': False},\n",
       "  {'artists': [{'id': 4178,\n",
       "     'image': {'id': 26803617,\n",
       "      'uri': 'https://geo-media.beatport.com/image_size/590x404/846683c6-4b4d-44db-8ebe-13d5d3cd5f92.jpg',\n",
       "      'dynamic_uri': 'https://geo-media.beatport.com/image_size/{w}x{h}/846683c6-4b4d-44db-8ebe-13d5d3cd5f92.jpg'},\n",
       "     'name': 'Tiesto',\n",
       "     'slug': 'tiesto',\n",
       "     'url': 'https://api.beatport.com/v4/catalog/artists/4178/'}],\n",
       "   'publish_status': 'published',\n",
       "   'available_worldwide': False,\n",
       "   'bpm': 128,\n",
       "   'catalog_number': '5054197536076',\n",
       "   'current_status': {'id': 10,\n",
       "    'name': 'General Content',\n",
       "    'url': 'https://api.beatport.com/v4/auxiliary/current-status/10/'},\n",
       "   'encoded_date': '2023-01-26T07:05:36-07:00',\n",
       "   'exclusive': False,\n",
       "   'free_downloads': [],\n",
       "   'free_download_start_date': None,\n",
       "   'free_download_end_date': None,\n",
       "   'genre': {'id': 7,\n",
       "    'name': 'Trance (Main Floor)',\n",
       "    'slug': 'trance-main-floor',\n",
       "    'url': 'https://api.beatport.com/v4/catalog/genres/7/'},\n",
       "   'id': 17355354,\n",
       "   'image': {'id': 33174832,\n",
       "    'uri': 'https://geo-media.beatport.com/image_size/1500x250/12b74307-89f5-4845-9dc5-12aa47d1aded.png',\n",
       "    'dynamic_uri': 'https://geo-media.beatport.com/image_size/{w}x{h}/12b74307-89f5-4845-9dc5-12aa47d1aded.png'},\n",
       "   'is_available_for_streaming': True,\n",
       "   'isrc': 'NLZ542300099',\n",
       "   'key': {'camelot_number': 12,\n",
       "    'camelot_letter': 'A',\n",
       "    'chord_type': {'id': 1,\n",
       "     'name': 'Minor',\n",
       "     'url': 'https://api.beatport.com/v4/catalog/chord-types/1/'},\n",
       "    'id': 12,\n",
       "    'is_sharp': False,\n",
       "    'is_flat': True,\n",
       "    'letter': 'D',\n",
       "    'name': 'Db Minor',\n",
       "    'url': 'https://api.beatport.com/v4/catalog/keys/12/'},\n",
       "   'label_track_identifier': None,\n",
       "   'length': '3:45',\n",
       "   'length_ms': 225000,\n",
       "   'mix_name': 'Tiësto Extended VIP Mix',\n",
       "   'name': 'Lay Low',\n",
       "   'new_release_date': '2023-02-03',\n",
       "   'pre_order': False,\n",
       "   'pre_order_date': None,\n",
       "   'price': {'code': 'EUR', 'symbol': '€', 'value': 1.39, 'display': '€1.39'},\n",
       "   'publish_date': '2023-02-03',\n",
       "   'release': {'id': 4005989,\n",
       "    'name': 'Lay Low (Tiësto Extended VIP Mix)',\n",
       "    'image': {'id': 33174794,\n",
       "     'uri': 'https://geo-media.beatport.com/image_size/1400x1400/44469f42-0dcd-4443-92e9-85c9a970c3e7.jpg',\n",
       "     'dynamic_uri': 'https://geo-media.beatport.com/image_size/{w}x{h}/44469f42-0dcd-4443-92e9-85c9a970c3e7.jpg'},\n",
       "    'label': {'id': 14175,\n",
       "     'name': 'Musical Freedom',\n",
       "     'image': {'id': 15631789,\n",
       "      'uri': 'https://geo-media.beatport.com/image_size/500x500/bb00c92d-eb16-4775-a955-6135e1e1bbf8.jpg',\n",
       "      'dynamic_uri': 'https://geo-media.beatport.com/image_size/{w}x{h}/bb00c92d-eb16-4775-a955-6135e1e1bbf8.jpg'},\n",
       "     'slug': 'musical-freedom'},\n",
       "    'slug': 'lay-low-tiesto-extended-vip-mix'},\n",
       "   'remixers': [],\n",
       "   'sale_type': {'id': 1,\n",
       "    'name': 'purchase',\n",
       "    'url': 'https://api.beatport.com/v4/auxiliary/sale-types/1/'},\n",
       "   'sample_url': 'https://geo-samples.beatport.com/track/12b74307-89f5-4845-9dc5-12aa47d1aded.LOFI.mp3',\n",
       "   'sample_start_ms': 90000,\n",
       "   'sample_end_ms': 210000,\n",
       "   'slug': 'lay-low',\n",
       "   'sub_genre': None,\n",
       "   'url': 'https://api.beatport.com/v4/catalog/tracks/17355354/',\n",
       "   'is_hype': False},\n",
       "  {'artists': [{'id': 4178,\n",
       "     'image': {'id': 26803617,\n",
       "      'uri': 'https://geo-media.beatport.com/image_size/590x404/846683c6-4b4d-44db-8ebe-13d5d3cd5f92.jpg',\n",
       "      'dynamic_uri': 'https://geo-media.beatport.com/image_size/{w}x{h}/846683c6-4b4d-44db-8ebe-13d5d3cd5f92.jpg'},\n",
       "     'name': 'Tiesto',\n",
       "     'slug': 'tiesto',\n",
       "     'url': 'https://api.beatport.com/v4/catalog/artists/4178/'}],\n",
       "   'publish_status': 'published',\n",
       "   'available_worldwide': False,\n",
       "   'bpm': 122,\n",
       "   'catalog_number': '5054197547331',\n",
       "   'current_status': {'id': 10,\n",
       "    'name': 'General Content',\n",
       "    'url': 'https://api.beatport.com/v4/auxiliary/current-status/10/'},\n",
       "   'encoded_date': '2023-02-01T06:51:03-07:00',\n",
       "   'exclusive': False,\n",
       "   'free_downloads': [],\n",
       "   'free_download_start_date': None,\n",
       "   'free_download_end_date': None,\n",
       "   'genre': {'id': 90,\n",
       "    'name': 'Melodic House & Techno',\n",
       "    'slug': 'melodic-house-techno',\n",
       "    'url': 'https://api.beatport.com/v4/catalog/genres/90/'},\n",
       "   'id': 17373534,\n",
       "   'image': {'id': 33221483,\n",
       "    'uri': 'https://geo-media.beatport.com/image_size/1500x250/3c68e949-a955-4ad0-bf3c-6a1885ead10d.png',\n",
       "    'dynamic_uri': 'https://geo-media.beatport.com/image_size/{w}x{h}/3c68e949-a955-4ad0-bf3c-6a1885ead10d.png'},\n",
       "   'is_available_for_streaming': True,\n",
       "   'isrc': 'NLZ542300141',\n",
       "   'key': {'camelot_number': 3,\n",
       "    'camelot_letter': 'B',\n",
       "    'chord_type': {'id': 2,\n",
       "     'name': 'Major',\n",
       "     'url': 'https://api.beatport.com/v4/catalog/chord-types/2/'},\n",
       "    'id': 15,\n",
       "    'is_sharp': False,\n",
       "    'is_flat': True,\n",
       "    'letter': 'D',\n",
       "    'name': 'Db Major',\n",
       "    'url': 'https://api.beatport.com/v4/catalog/keys/15/'},\n",
       "   'label_track_identifier': None,\n",
       "   'length': '5:18',\n",
       "   'length_ms': 318688,\n",
       "   'mix_name': 'Extended Mix',\n",
       "   'name': 'Lay Low (Argy Remix)',\n",
       "   'new_release_date': '2023-02-03',\n",
       "   'pre_order': False,\n",
       "   'pre_order_date': None,\n",
       "   'price': {'code': 'EUR', 'symbol': '€', 'value': 1.39, 'display': '€1.39'},\n",
       "   'publish_date': '2023-02-03',\n",
       "   'release': {'id': 4012434,\n",
       "    'name': 'Lay Low (Argy Remix) [Extended Mix]',\n",
       "    'image': {'id': 33221443,\n",
       "     'uri': 'https://geo-media.beatport.com/image_size/1400x1400/21dd10ad-571f-4ed4-b8be-f7dcf9610bd2.jpg',\n",
       "     'dynamic_uri': 'https://geo-media.beatport.com/image_size/{w}x{h}/21dd10ad-571f-4ed4-b8be-f7dcf9610bd2.jpg'},\n",
       "    'label': {'id': 14175,\n",
       "     'name': 'Musical Freedom',\n",
       "     'image': {'id': 15631789,\n",
       "      'uri': 'https://geo-media.beatport.com/image_size/500x500/bb00c92d-eb16-4775-a955-6135e1e1bbf8.jpg',\n",
       "      'dynamic_uri': 'https://geo-media.beatport.com/image_size/{w}x{h}/bb00c92d-eb16-4775-a955-6135e1e1bbf8.jpg'},\n",
       "     'slug': 'musical-freedom'},\n",
       "    'slug': 'lay-low-argy-remix-extended-mix'},\n",
       "   'remixers': [{'id': 8642,\n",
       "     'image': {'id': 36453439,\n",
       "      'uri': 'https://geo-media.beatport.com/image_size/590x404/1dc89be4-a36b-4f0f-9a88-823d429ca212.jpg',\n",
       "      'dynamic_uri': 'https://geo-media.beatport.com/image_size/{w}x{h}/1dc89be4-a36b-4f0f-9a88-823d429ca212.jpg'},\n",
       "     'name': 'Argy',\n",
       "     'slug': 'argy',\n",
       "     'url': 'https://api.beatport.com/v4/catalog/artists/8642/'}],\n",
       "   'sale_type': {'id': 1,\n",
       "    'name': 'purchase',\n",
       "    'url': 'https://api.beatport.com/v4/auxiliary/sale-types/1/'},\n",
       "   'sample_url': 'https://geo-samples.beatport.com/track/3c68e949-a955-4ad0-bf3c-6a1885ead10d.LOFI.mp3',\n",
       "   'sample_start_ms': 127475,\n",
       "   'sample_end_ms': 247475,\n",
       "   'slug': 'lay-low-argy-remix',\n",
       "   'sub_genre': None,\n",
       "   'url': 'https://api.beatport.com/v4/catalog/tracks/17373534/',\n",
       "   'is_hype': False},\n",
       "  {'artists': [{'id': 4178,\n",
       "     'image': {'id': 26803617,\n",
       "      'uri': 'https://geo-media.beatport.com/image_size/590x404/846683c6-4b4d-44db-8ebe-13d5d3cd5f92.jpg',\n",
       "      'dynamic_uri': 'https://geo-media.beatport.com/image_size/{w}x{h}/846683c6-4b4d-44db-8ebe-13d5d3cd5f92.jpg'},\n",
       "     'name': 'Tiesto',\n",
       "     'slug': 'tiesto',\n",
       "     'url': 'https://api.beatport.com/v4/catalog/artists/4178/'}],\n",
       "   'publish_status': 'published',\n",
       "   'available_worldwide': False,\n",
       "   'bpm': 120,\n",
       "   'catalog_number': '075679709875',\n",
       "   'current_status': {'id': 10,\n",
       "    'name': 'General Content',\n",
       "    'url': 'https://api.beatport.com/v4/auxiliary/current-status/10/'},\n",
       "   'encoded_date': '2023-04-24T11:59:00-06:00',\n",
       "   'exclusive': False,\n",
       "   'free_downloads': [],\n",
       "   'free_download_start_date': None,\n",
       "   'free_download_end_date': None,\n",
       "   'genre': {'id': 39,\n",
       "    'name': 'Dance / Electro Pop',\n",
       "    'slug': 'dance-electro-pop',\n",
       "    'url': 'https://api.beatport.com/v4/catalog/genres/39/'},\n",
       "   'id': 17655809,\n",
       "   'image': {'id': 33978917,\n",
       "    'uri': 'https://geo-media.beatport.com/image_size/1500x250/a96d6dbf-0b54-4f63-ae77-828cc7497167.png',\n",
       "    'dynamic_uri': 'https://geo-media.beatport.com/image_size/{w}x{h}/a96d6dbf-0b54-4f63-ae77-828cc7497167.png'},\n",
       "   'is_available_for_streaming': True,\n",
       "   'isrc': 'CYA112200046',\n",
       "   'key': {'camelot_number': 12,\n",
       "    'camelot_letter': 'A',\n",
       "    'chord_type': {'id': 1,\n",
       "     'name': 'Minor',\n",
       "     'url': 'https://api.beatport.com/v4/catalog/chord-types/1/'},\n",
       "    'id': 12,\n",
       "    'is_sharp': False,\n",
       "    'is_flat': True,\n",
       "    'letter': 'D',\n",
       "    'name': 'Db Minor',\n",
       "    'url': 'https://api.beatport.com/v4/catalog/keys/12/'},\n",
       "   'label_track_identifier': None,\n",
       "   'length': '2:33',\n",
       "   'length_ms': 153442,\n",
       "   'mix_name': 'Original Mix',\n",
       "   'name': 'Lay Low',\n",
       "   'new_release_date': '2023-04-21',\n",
       "   'pre_order': False,\n",
       "   'pre_order_date': None,\n",
       "   'price': {'code': 'EUR', 'symbol': '€', 'value': 1.39, 'display': '€1.39'},\n",
       "   'publish_date': '2023-04-21',\n",
       "   'release': {'id': 4106054,\n",
       "    'name': 'DRIVE',\n",
       "    'image': {'id': 33978125,\n",
       "     'uri': 'https://geo-media.beatport.com/image_size/1400x1400/4cda2191-8784-47d4-8efb-da4f58c22aad.jpg',\n",
       "     'dynamic_uri': 'https://geo-media.beatport.com/image_size/{w}x{h}/4cda2191-8784-47d4-8efb-da4f58c22aad.jpg'},\n",
       "    'label': {'id': 15320,\n",
       "     'name': 'Atlantic Records',\n",
       "     'image': {'id': 21175704,\n",
       "      'uri': 'https://geo-media.beatport.com/image_size/500x500/ae8688e8-de51-42aa-951d-ab0646865253.jpg',\n",
       "      'dynamic_uri': 'https://geo-media.beatport.com/image_size/{w}x{h}/ae8688e8-de51-42aa-951d-ab0646865253.jpg'},\n",
       "     'slug': 'atlantic-records'},\n",
       "    'slug': 'drive'},\n",
       "   'remixers': [],\n",
       "   'sale_type': {'id': 1,\n",
       "    'name': 'purchase',\n",
       "    'url': 'https://api.beatport.com/v4/auxiliary/sale-types/1/'},\n",
       "   'sample_url': 'https://geo-samples.beatport.com/track/a96d6dbf-0b54-4f63-ae77-828cc7497167.LOFI.mp3',\n",
       "   'sample_start_ms': 61377,\n",
       "   'sample_end_ms': 153442,\n",
       "   'slug': 'lay-low',\n",
       "   'sub_genre': None,\n",
       "   'url': 'https://api.beatport.com/v4/catalog/tracks/17655809/',\n",
       "   'is_hype': False},\n",
       "  {'artists': [{'id': 4178,\n",
       "     'image': {'id': 26803617,\n",
       "      'uri': 'https://geo-media.beatport.com/image_size/590x404/846683c6-4b4d-44db-8ebe-13d5d3cd5f92.jpg',\n",
       "      'dynamic_uri': 'https://geo-media.beatport.com/image_size/{w}x{h}/846683c6-4b4d-44db-8ebe-13d5d3cd5f92.jpg'},\n",
       "     'name': 'Tiesto',\n",
       "     'slug': 'tiesto',\n",
       "     'url': 'https://api.beatport.com/v4/catalog/artists/4178/'}],\n",
       "   'publish_status': 'published',\n",
       "   'available_worldwide': False,\n",
       "   'bpm': 150,\n",
       "   'catalog_number': '5054197746055',\n",
       "   'current_status': {'id': 10,\n",
       "    'name': 'General Content',\n",
       "    'url': 'https://api.beatport.com/v4/auxiliary/current-status/10/'},\n",
       "   'encoded_date': '2023-07-12T11:36:48-06:00',\n",
       "   'exclusive': False,\n",
       "   'free_downloads': [],\n",
       "   'free_download_start_date': None,\n",
       "   'free_download_end_date': None,\n",
       "   'genre': {'id': 7,\n",
       "    'name': 'Trance (Main Floor)',\n",
       "    'slug': 'trance-main-floor',\n",
       "    'url': 'https://api.beatport.com/v4/catalog/genres/7/'},\n",
       "   'id': 17932598,\n",
       "   'image': {'id': 34970507,\n",
       "    'uri': 'https://geo-media.beatport.com/image_size/1500x250/ad54961e-57aa-4262-b8b7-a8479f9ebf3c.png',\n",
       "    'dynamic_uri': 'https://geo-media.beatport.com/image_size/{w}x{h}/ad54961e-57aa-4262-b8b7-a8479f9ebf3c.png'},\n",
       "   'is_available_for_streaming': True,\n",
       "   'isrc': 'NLZ542301012',\n",
       "   'key': {'camelot_number': 4,\n",
       "    'camelot_letter': 'A',\n",
       "    'chord_type': {'id': 1,\n",
       "     'name': 'Minor',\n",
       "     'url': 'https://api.beatport.com/v4/catalog/chord-types/1/'},\n",
       "    'id': 4,\n",
       "    'is_sharp': False,\n",
       "    'is_flat': False,\n",
       "    'letter': 'F',\n",
       "    'name': 'F Minor',\n",
       "    'url': 'https://api.beatport.com/v4/catalog/keys/4/'},\n",
       "   'label_track_identifier': None,\n",
       "   'length': '4:27',\n",
       "   'length_ms': 267200,\n",
       "   'mix_name': 'Extended Mix',\n",
       "   'name': 'Lay Low (Maddix Remix)',\n",
       "   'new_release_date': '2023-01-06',\n",
       "   'pre_order': False,\n",
       "   'pre_order_date': None,\n",
       "   'price': {'code': 'EUR', 'symbol': '€', 'value': 1.39, 'display': '€1.39'},\n",
       "   'publish_date': '2023-07-14',\n",
       "   'release': {'id': 4195557,\n",
       "    'name': 'Lay Low (Remixes) [Extended Mix]',\n",
       "    'image': {'id': 34970431,\n",
       "     'uri': 'https://geo-media.beatport.com/image_size/1400x1400/b7f66c7b-3b22-4f74-a2b9-f02a89a9c710.jpg',\n",
       "     'dynamic_uri': 'https://geo-media.beatport.com/image_size/{w}x{h}/b7f66c7b-3b22-4f74-a2b9-f02a89a9c710.jpg'},\n",
       "    'label': {'id': 14175,\n",
       "     'name': 'Musical Freedom',\n",
       "     'image': {'id': 15631789,\n",
       "      'uri': 'https://geo-media.beatport.com/image_size/500x500/bb00c92d-eb16-4775-a955-6135e1e1bbf8.jpg',\n",
       "      'dynamic_uri': 'https://geo-media.beatport.com/image_size/{w}x{h}/bb00c92d-eb16-4775-a955-6135e1e1bbf8.jpg'},\n",
       "     'slug': 'musical-freedom'},\n",
       "    'slug': 'lay-low-remixes-extended-mix'},\n",
       "   'remixers': [{'id': 379699,\n",
       "     'image': {'id': 32508045,\n",
       "      'uri': 'https://geo-media.beatport.com/image_size/590x404/1a55b2d6-0891-437b-a5db-409f923f30c6.jpg',\n",
       "      'dynamic_uri': 'https://geo-media.beatport.com/image_size/{w}x{h}/1a55b2d6-0891-437b-a5db-409f923f30c6.jpg'},\n",
       "     'name': 'Maddix',\n",
       "     'slug': 'maddix',\n",
       "     'url': 'https://api.beatport.com/v4/catalog/artists/379699/'}],\n",
       "   'sale_type': {'id': 1,\n",
       "    'name': 'purchase',\n",
       "    'url': 'https://api.beatport.com/v4/auxiliary/sale-types/1/'},\n",
       "   'sample_url': 'https://geo-samples.beatport.com/track/ad54961e-57aa-4262-b8b7-a8479f9ebf3c.LOFI.mp3',\n",
       "   'sample_start_ms': 106880,\n",
       "   'sample_end_ms': 226880,\n",
       "   'slug': 'lay-low-maddix-remix',\n",
       "   'sub_genre': None,\n",
       "   'url': 'https://api.beatport.com/v4/catalog/tracks/17932598/',\n",
       "   'is_hype': False}],\n",
       " 'order': ['tracks'],\n",
       " 'next': 'api.beatport.com/v4/catalog/search/?q=lay+low+tiesto&type=tracks&per_page=5&page=2',\n",
       " 'previous': None,\n",
       " 'count': 21948,\n",
       " 'page': '1/4390',\n",
       " 'per_page': 5}"
      ]
     },
     "execution_count": 13,
     "metadata": {},
     "output_type": "execute_result"
    }
   ],
   "source": [
    "response = get(url=beatport_base_url+'/catalog/search/', \n",
    "               headers=headers, \n",
    "               params={\"q\": \"lay low tiesto\", 'type': 'tracks', 'per_page': '5'})\n",
    "response.json()"
   ]
  }
 ],
 "metadata": {
  "kernelspec": {
   "display_name": "Python 3",
   "language": "python",
   "name": "python3"
  },
  "language_info": {
   "codemirror_mode": {
    "name": "ipython",
    "version": 3
   },
   "file_extension": ".py",
   "mimetype": "text/x-python",
   "name": "python",
   "nbconvert_exporter": "python",
   "pygments_lexer": "ipython3",
   "version": "3.11.6"
  }
 },
 "nbformat": 4,
 "nbformat_minor": 2
}
