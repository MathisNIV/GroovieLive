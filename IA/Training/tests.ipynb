{
 "cells": [
  {
   "cell_type": "code",
   "execution_count": 43,
   "id": "initial_id",
   "metadata": {
    "collapsed": true,
    "ExecuteTime": {
     "end_time": "2024-01-08T14:18:38.459423Z",
     "start_time": "2024-01-08T14:18:36.994867Z"
    }
   },
   "outputs": [
    {
     "name": "stdout",
     "output_type": "stream",
     "text": [
      "Requirement already satisfied: tensorflow in /Users/timothee-l/miniconda3/envs/condaML/lib/python3.10/site-packages (2.15.0)\r\n",
      "Requirement already satisfied: matplotlib in /Users/timothee-l/miniconda3/envs/condaML/lib/python3.10/site-packages (3.8.2)\r\n",
      "Requirement already satisfied: tensorflow-macos==2.15.0 in /Users/timothee-l/miniconda3/envs/condaML/lib/python3.10/site-packages (from tensorflow) (2.15.0)\r\n",
      "Requirement already satisfied: absl-py>=1.0.0 in /Users/timothee-l/miniconda3/envs/condaML/lib/python3.10/site-packages (from tensorflow-macos==2.15.0->tensorflow) (2.0.0)\r\n",
      "Requirement already satisfied: astunparse>=1.6.0 in /Users/timothee-l/miniconda3/envs/condaML/lib/python3.10/site-packages (from tensorflow-macos==2.15.0->tensorflow) (1.6.3)\r\n",
      "Requirement already satisfied: flatbuffers>=23.5.26 in /Users/timothee-l/miniconda3/envs/condaML/lib/python3.10/site-packages (from tensorflow-macos==2.15.0->tensorflow) (23.5.26)\r\n",
      "Requirement already satisfied: gast!=0.5.0,!=0.5.1,!=0.5.2,>=0.2.1 in /Users/timothee-l/miniconda3/envs/condaML/lib/python3.10/site-packages (from tensorflow-macos==2.15.0->tensorflow) (0.5.4)\r\n",
      "Requirement already satisfied: google-pasta>=0.1.1 in /Users/timothee-l/miniconda3/envs/condaML/lib/python3.10/site-packages (from tensorflow-macos==2.15.0->tensorflow) (0.2.0)\r\n",
      "Requirement already satisfied: h5py>=2.9.0 in /Users/timothee-l/miniconda3/envs/condaML/lib/python3.10/site-packages (from tensorflow-macos==2.15.0->tensorflow) (3.10.0)\r\n",
      "Requirement already satisfied: libclang>=13.0.0 in /Users/timothee-l/miniconda3/envs/condaML/lib/python3.10/site-packages (from tensorflow-macos==2.15.0->tensorflow) (16.0.6)\r\n",
      "Requirement already satisfied: ml-dtypes~=0.2.0 in /Users/timothee-l/miniconda3/envs/condaML/lib/python3.10/site-packages (from tensorflow-macos==2.15.0->tensorflow) (0.2.0)\r\n",
      "Requirement already satisfied: numpy<2.0.0,>=1.23.5 in /Users/timothee-l/miniconda3/envs/condaML/lib/python3.10/site-packages (from tensorflow-macos==2.15.0->tensorflow) (1.26.2)\r\n",
      "Requirement already satisfied: opt-einsum>=2.3.2 in /Users/timothee-l/miniconda3/envs/condaML/lib/python3.10/site-packages (from tensorflow-macos==2.15.0->tensorflow) (3.3.0)\r\n",
      "Requirement already satisfied: packaging in /Users/timothee-l/miniconda3/envs/condaML/lib/python3.10/site-packages (from tensorflow-macos==2.15.0->tensorflow) (23.1)\r\n",
      "Requirement already satisfied: protobuf!=4.21.0,!=4.21.1,!=4.21.2,!=4.21.3,!=4.21.4,!=4.21.5,<5.0.0dev,>=3.20.3 in /Users/timothee-l/miniconda3/envs/condaML/lib/python3.10/site-packages (from tensorflow-macos==2.15.0->tensorflow) (4.23.4)\r\n",
      "Requirement already satisfied: setuptools in /Users/timothee-l/miniconda3/envs/condaML/lib/python3.10/site-packages (from tensorflow-macos==2.15.0->tensorflow) (68.0.0)\r\n",
      "Requirement already satisfied: six>=1.12.0 in /Users/timothee-l/miniconda3/envs/condaML/lib/python3.10/site-packages (from tensorflow-macos==2.15.0->tensorflow) (1.16.0)\r\n",
      "Requirement already satisfied: termcolor>=1.1.0 in /Users/timothee-l/miniconda3/envs/condaML/lib/python3.10/site-packages (from tensorflow-macos==2.15.0->tensorflow) (2.4.0)\r\n",
      "Requirement already satisfied: typing-extensions>=3.6.6 in /Users/timothee-l/miniconda3/envs/condaML/lib/python3.10/site-packages (from tensorflow-macos==2.15.0->tensorflow) (4.7.1)\r\n",
      "Requirement already satisfied: wrapt<1.15,>=1.11.0 in /Users/timothee-l/miniconda3/envs/condaML/lib/python3.10/site-packages (from tensorflow-macos==2.15.0->tensorflow) (1.14.1)\r\n",
      "Requirement already satisfied: tensorflow-io-gcs-filesystem>=0.23.1 in /Users/timothee-l/miniconda3/envs/condaML/lib/python3.10/site-packages (from tensorflow-macos==2.15.0->tensorflow) (0.34.0)\r\n",
      "Requirement already satisfied: grpcio<2.0,>=1.24.3 in /Users/timothee-l/miniconda3/envs/condaML/lib/python3.10/site-packages (from tensorflow-macos==2.15.0->tensorflow) (1.59.3)\r\n",
      "Requirement already satisfied: tensorboard<2.16,>=2.15 in /Users/timothee-l/miniconda3/envs/condaML/lib/python3.10/site-packages (from tensorflow-macos==2.15.0->tensorflow) (2.15.1)\r\n",
      "Requirement already satisfied: tensorflow-estimator<2.16,>=2.15.0 in /Users/timothee-l/miniconda3/envs/condaML/lib/python3.10/site-packages (from tensorflow-macos==2.15.0->tensorflow) (2.15.0)\r\n",
      "Requirement already satisfied: keras<2.16,>=2.15.0 in /Users/timothee-l/miniconda3/envs/condaML/lib/python3.10/site-packages (from tensorflow-macos==2.15.0->tensorflow) (2.15.0)\r\n",
      "Requirement already satisfied: contourpy>=1.0.1 in /Users/timothee-l/miniconda3/envs/condaML/lib/python3.10/site-packages (from matplotlib) (1.2.0)\r\n",
      "Requirement already satisfied: cycler>=0.10 in /Users/timothee-l/miniconda3/envs/condaML/lib/python3.10/site-packages (from matplotlib) (0.12.1)\r\n",
      "Requirement already satisfied: fonttools>=4.22.0 in /Users/timothee-l/miniconda3/envs/condaML/lib/python3.10/site-packages (from matplotlib) (4.46.0)\r\n",
      "Requirement already satisfied: kiwisolver>=1.3.1 in /Users/timothee-l/miniconda3/envs/condaML/lib/python3.10/site-packages (from matplotlib) (1.4.5)\r\n",
      "Requirement already satisfied: pillow>=8 in /Users/timothee-l/miniconda3/envs/condaML/lib/python3.10/site-packages (from matplotlib) (10.1.0)\r\n",
      "Requirement already satisfied: pyparsing>=2.3.1 in /Users/timothee-l/miniconda3/envs/condaML/lib/python3.10/site-packages (from matplotlib) (3.1.1)\r\n",
      "Requirement already satisfied: python-dateutil>=2.7 in /Users/timothee-l/miniconda3/envs/condaML/lib/python3.10/site-packages (from matplotlib) (2.8.2)\r\n",
      "Requirement already satisfied: wheel<1.0,>=0.23.0 in /Users/timothee-l/miniconda3/envs/condaML/lib/python3.10/site-packages (from astunparse>=1.6.0->tensorflow-macos==2.15.0->tensorflow) (0.41.2)\r\n",
      "Requirement already satisfied: google-auth<3,>=1.6.3 in /Users/timothee-l/miniconda3/envs/condaML/lib/python3.10/site-packages (from tensorboard<2.16,>=2.15->tensorflow-macos==2.15.0->tensorflow) (2.25.1)\r\n",
      "Requirement already satisfied: google-auth-oauthlib<2,>=0.5 in /Users/timothee-l/miniconda3/envs/condaML/lib/python3.10/site-packages (from tensorboard<2.16,>=2.15->tensorflow-macos==2.15.0->tensorflow) (1.1.0)\r\n",
      "Requirement already satisfied: markdown>=2.6.8 in /Users/timothee-l/miniconda3/envs/condaML/lib/python3.10/site-packages (from tensorboard<2.16,>=2.15->tensorflow-macos==2.15.0->tensorflow) (3.5.1)\r\n",
      "Requirement already satisfied: requests<3,>=2.21.0 in /Users/timothee-l/miniconda3/envs/condaML/lib/python3.10/site-packages (from tensorboard<2.16,>=2.15->tensorflow-macos==2.15.0->tensorflow) (2.31.0)\r\n",
      "Requirement already satisfied: tensorboard-data-server<0.8.0,>=0.7.0 in /Users/timothee-l/miniconda3/envs/condaML/lib/python3.10/site-packages (from tensorboard<2.16,>=2.15->tensorflow-macos==2.15.0->tensorflow) (0.7.2)\r\n",
      "Requirement already satisfied: werkzeug>=1.0.1 in /Users/timothee-l/miniconda3/envs/condaML/lib/python3.10/site-packages (from tensorboard<2.16,>=2.15->tensorflow-macos==2.15.0->tensorflow) (3.0.1)\r\n",
      "Requirement already satisfied: cachetools<6.0,>=2.0.0 in /Users/timothee-l/miniconda3/envs/condaML/lib/python3.10/site-packages (from google-auth<3,>=1.6.3->tensorboard<2.16,>=2.15->tensorflow-macos==2.15.0->tensorflow) (5.3.2)\r\n",
      "Requirement already satisfied: pyasn1-modules>=0.2.1 in /Users/timothee-l/miniconda3/envs/condaML/lib/python3.10/site-packages (from google-auth<3,>=1.6.3->tensorboard<2.16,>=2.15->tensorflow-macos==2.15.0->tensorflow) (0.3.0)\r\n",
      "Requirement already satisfied: rsa<5,>=3.1.4 in /Users/timothee-l/miniconda3/envs/condaML/lib/python3.10/site-packages (from google-auth<3,>=1.6.3->tensorboard<2.16,>=2.15->tensorflow-macos==2.15.0->tensorflow) (4.9)\r\n",
      "Requirement already satisfied: requests-oauthlib>=0.7.0 in /Users/timothee-l/miniconda3/envs/condaML/lib/python3.10/site-packages (from google-auth-oauthlib<2,>=0.5->tensorboard<2.16,>=2.15->tensorflow-macos==2.15.0->tensorflow) (1.3.1)\r\n",
      "Requirement already satisfied: charset-normalizer<4,>=2 in /Users/timothee-l/miniconda3/envs/condaML/lib/python3.10/site-packages (from requests<3,>=2.21.0->tensorboard<2.16,>=2.15->tensorflow-macos==2.15.0->tensorflow) (2.0.4)\r\n",
      "Requirement already satisfied: idna<4,>=2.5 in /Users/timothee-l/miniconda3/envs/condaML/lib/python3.10/site-packages (from requests<3,>=2.21.0->tensorboard<2.16,>=2.15->tensorflow-macos==2.15.0->tensorflow) (3.4)\r\n",
      "Requirement already satisfied: urllib3<3,>=1.21.1 in /Users/timothee-l/miniconda3/envs/condaML/lib/python3.10/site-packages (from requests<3,>=2.21.0->tensorboard<2.16,>=2.15->tensorflow-macos==2.15.0->tensorflow) (1.26.18)\r\n",
      "Requirement already satisfied: certifi>=2017.4.17 in /Users/timothee-l/miniconda3/envs/condaML/lib/python3.10/site-packages (from requests<3,>=2.21.0->tensorboard<2.16,>=2.15->tensorflow-macos==2.15.0->tensorflow) (2023.11.17)\r\n",
      "Requirement already satisfied: MarkupSafe>=2.1.1 in /Users/timothee-l/miniconda3/envs/condaML/lib/python3.10/site-packages (from werkzeug>=1.0.1->tensorboard<2.16,>=2.15->tensorflow-macos==2.15.0->tensorflow) (2.1.1)\r\n",
      "Requirement already satisfied: pyasn1<0.6.0,>=0.4.6 in /Users/timothee-l/miniconda3/envs/condaML/lib/python3.10/site-packages (from pyasn1-modules>=0.2.1->google-auth<3,>=1.6.3->tensorboard<2.16,>=2.15->tensorflow-macos==2.15.0->tensorflow) (0.5.1)\r\n",
      "Requirement already satisfied: oauthlib>=3.0.0 in /Users/timothee-l/miniconda3/envs/condaML/lib/python3.10/site-packages (from requests-oauthlib>=0.7.0->google-auth-oauthlib<2,>=0.5->tensorboard<2.16,>=2.15->tensorflow-macos==2.15.0->tensorflow) (3.2.2)\r\n"
     ]
    }
   ],
   "source": [
    "!pip install matplotlib numpy"
   ]
  },
  {
   "cell_type": "markdown",
   "source": [
    "Load dataset"
   ],
   "metadata": {
    "collapsed": false
   },
   "id": "d4ec99ee5cca1538"
  },
  {
   "cell_type": "code",
   "outputs": [],
   "source": [
    "import json\n",
    "\n",
    "\n",
    "songs = {}\n",
    "files = [\"Acide.json\", \"ACIDE_TECHNO.json\", \"B2B_M.json\", \"B2B_M2.json\", \"Disco.json\", \"Electro_pop.json\", \"House-1.json\", \"Mainstage.json\", \"Psytrance.json\", \"Techno.json\"]\n",
    "for file in files:\n",
    "    with open(f\"./playlists/{file}\") as f:\n",
    "        musics = json.load(f)[\"MUSICS\"]\n",
    "        \n",
    "        for music_id, music_info in musics.items():\n",
    "            music = {\"genre\": music_info[\"gender\"], \"title\": music_info[\"title\"], \"bpm\": music_info[\"bpm\"],\n",
    "                    \"key\": music_info[\"key\"], \"camelot_key\": music_info[\"camelot_key\"]}\n",
    "            skip = False\n",
    "            for e in music.values():\n",
    "                if not e:\n",
    "                    skip = True\n",
    "                    break\n",
    "                if e == \"\" or e == \"UNKNOWN\" or e == 0:\n",
    "                    skip = True\n",
    "                    break\n",
    "            if not skip:\n",
    "                songs[music_id] = music"
   ],
   "metadata": {
    "collapsed": false,
    "ExecuteTime": {
     "end_time": "2024-01-08T14:18:38.472559Z",
     "start_time": "2024-01-08T14:18:38.462826Z"
    }
   },
   "id": "d2dfe24548a2b4f8",
   "execution_count": 44
  },
  {
   "cell_type": "markdown",
   "source": [
    "Extraire features  \n",
    "- Catégorie (ensemble de genre)\n",
    "- BPM\n",
    "- Clef (à encoder)"
   ],
   "metadata": {
    "collapsed": false
   },
   "id": "a9896e7c773670bc"
  },
  {
   "cell_type": "code",
   "outputs": [],
   "source": [
    "categories = {\n",
    "    \"HOUSE\": [\"AFROHOUSE\", \"BASSCLUB\", \"BASSHOUSE\", \"DEEPHOUSE\", \"FUNKYHOUSE\", \"HOUSE\", \"JACKINHOUSE\", \"MELODICHOUSETECHNO\", \"ORGANICHOUSEDOWNTEMPO\", \"PROGRESSIVEHOUSE\", \"TECHHOUSE\"],\n",
    "    \"TECHNO\": [\"TECHNOPEAKTIMEDRIVING\", \"TECHNORAWDEEPHYPNOTIC\", \"HARDTECHNO\"],\n",
    "    \"TRANCE\": [\"TRANCEMAINFLOOR\", \"TRANCERAWDEEPHYPNOTIC\", \"PSYTRANCE\"],\n",
    "    \"DUBSTEP\": [\"140DEEPDUBSTEPGRIME\", \"DRUMBASS\", \"DUBSTEP\"],\n",
    "    \"EDM\": [\"ELECTROCLASSICDETROITMODERN\", \"MAINSTAGE\"],\n",
    "    \"DANCE\": [\"DANCEELECTROPOP\", \"INDIEDANCE\", \"HARDCORE\"],\n",
    "}\n",
    "\n",
    "count = {\"HOUSE\": 0, \"TECHNO\": 0, \"TRANCE\": 0, \"DUBSTEP\": 0, \"EDM\": 0, \"DANCE\": 0, \"OTHER\": 0}"
   ],
   "metadata": {
    "collapsed": false,
    "ExecuteTime": {
     "end_time": "2024-01-08T14:18:38.480577Z",
     "start_time": "2024-01-08T14:18:38.472624Z"
    }
   },
   "id": "1848412530f482b5",
   "execution_count": 45
  },
  {
   "cell_type": "code",
   "outputs": [],
   "source": [
    "for song in songs.values():\n",
    "    found = False\n",
    "    genre = song[\"genre\"]\n",
    "    for category, genres in categories.items():\n",
    "        if genre in genres:\n",
    "            song[\"category\"] = category\n",
    "            count[category] += 1\n",
    "            found = True\n",
    "            break\n",
    "    if not found:\n",
    "        song[\"category\"] = \"OTHER\"\n",
    "        count[\"OTHER\"] += 1"
   ],
   "metadata": {
    "collapsed": false,
    "ExecuteTime": {
     "end_time": "2024-01-08T14:18:38.487736Z",
     "start_time": "2024-01-08T14:18:38.475648Z"
    }
   },
   "id": "88e79c657d12517a",
   "execution_count": 46
  },
  {
   "cell_type": "code",
   "outputs": [
    {
     "data": {
      "text/plain": "<BarContainer object of 7 artists>"
     },
     "execution_count": 47,
     "metadata": {},
     "output_type": "execute_result"
    },
    {
     "data": {
      "text/plain": "<Figure size 640x480 with 1 Axes>",
      "image/png": "[encoded data removed]"
     },
     "metadata": {},
     "output_type": "display_data"
    }
   ],
   "source": [
    "import matplotlib.pyplot as plt\n",
    "\n",
    "plt.bar(count.keys(), count.values(), align=\"center\")"
   ],
   "metadata": {
    "collapsed": false,
    "ExecuteTime": {
     "end_time": "2024-01-08T14:18:38.615765Z",
     "start_time": "2024-01-08T14:18:38.486997Z"
    }
   },
   "id": "23a8d10e7c836a9e",
   "execution_count": 47
  },
  {
   "cell_type": "markdown",
   "source": [
    "Définition fonction distance\n",
    "Calcul de la distance pour toutes les paires possibles"
   ],
   "metadata": {
    "collapsed": false
   },
   "id": "70b732d9828f2048"
  },
  {
   "cell_type": "code",
   "outputs": [],
   "source": [
    "def compute_song_distance(song1, song2):\n",
    "    camelot_wheel = ['1A', '2A', '3A', '4A', '5A', '6A', '7A', '8A', '9A', '10A', '11A', '12A',\n",
    "                     '1B', '2B', '3B', '4B', '5B', '6B', '7B', '8B', '9B', '10B', '11B', '12B']\n",
    "\n",
    "    index1 = camelot_wheel.index(song1[\"camelot_key\"].upper())\n",
    "    index2 = camelot_wheel.index(song2[\"camelot_key\"].upper())\n",
    "\n",
    "    identical = index1 == index2\n",
    "    adjacent = abs(index1 - index2) == 1 or abs(index1 - index2) == len(camelot_wheel) - 1\n",
    "\n",
    "    bpm_difference = abs(song1['bpm'] - song2['bpm'])\n",
    "\n",
    "    same_genre = song1['genre'] == song2['genre']\n",
    "    same_category = song1['category'] == song2['category'] and song1['category'] != \"OTHER\"\n",
    "\n",
    "    # TODO: optimize weights\n",
    "    distance = (not identical and not adjacent) + 0.2 * bpm_difference + 0.5 * (not same_category) + 0.5 * (not same_genre)\n",
    "\n",
    "    return distance"
   ],
   "metadata": {
    "collapsed": false,
    "ExecuteTime": {
     "end_time": "2024-01-08T15:33:39.447803Z",
     "start_time": "2024-01-08T15:33:39.443618Z"
    }
   },
   "id": "3acb43d5c7cdbb5f",
   "execution_count": 73
  },
  {
   "cell_type": "code",
   "outputs": [
    {
     "data": {
      "text/plain": "<Figure size 640x480 with 1 Axes>",
      "image/png": "[encoded data removed]"
     },
     "metadata": {},
     "output_type": "display_data"
    }
   ],
   "source": [
    "import numpy as np\n",
    "\n",
    "\n",
    "distance = []\n",
    "for songA in songs.values():\n",
    "    for songB in songs.values():\n",
    "        if songA != songB:\n",
    "            distance.append(compute_song_distance(songA, songB))\n",
    "\n",
    "sorted_distances = np.sort(distance)\n",
    "cumulative_distribution = np.arange(1, len(sorted_distances) + 1) / len(sorted_distances)\n",
    "\n",
    "plt.plot(sorted_distances, cumulative_distribution, label='CDF')\n",
    "\n",
    "plt.xlabel('Distance')\n",
    "plt.ylabel('Cumulative Probability')\n",
    "plt.legend()\n",
    "\n",
    "plt.show()"
   ],
   "metadata": {
    "collapsed": false,
    "ExecuteTime": {
     "end_time": "2024-01-08T15:33:40.730839Z",
     "start_time": "2024-01-08T15:33:40.169943Z"
    }
   },
   "id": "6ac80249e421bc25",
   "execution_count": 74
  },
  {
   "cell_type": "markdown",
   "source": [
    "Calcul du score"
   ],
   "metadata": {
    "collapsed": false
   },
   "id": "b40da30e93b0b37"
  },
  {
   "cell_type": "code",
   "outputs": [],
   "source": [
    "def get_match_score(songA, songB):\n",
    "    target_distance = compute_song_distance(songA, songB)\n",
    "    index = np.argmax(sorted_distances >= target_distance)\n",
    "    \n",
    "    percentage_above_distance = 100 * (1 - (index / len(sorted_distances)))\n",
    "\n",
    "    return percentage_above_distance"
   ],
   "metadata": {
    "collapsed": false,
    "ExecuteTime": {
     "end_time": "2024-01-08T15:33:45.051359Z",
     "start_time": "2024-01-08T15:33:45.044523Z"
    }
   },
   "id": "b94c92c55cb3921d",
   "execution_count": 75
  },
  {
   "cell_type": "code",
   "outputs": [
    {
     "name": "stdout",
     "output_type": "stream",
     "text": [
      "target:1.9\n",
      "len:192222\n",
      "index:22696\n",
      "Match score:88.19281872002163%\n"
     ]
    }
   ],
   "source": [
    "songA = {\n",
    "    \"key\": \"Gb MAJ\",\n",
    "    \"camelot_key\": \"2B\",\n",
    "    \"bpm\": 126,\n",
    "    \"genre\": \"DEEPHOUSE\",\n",
    "    \"category\": \"HOUSE\"}\n",
    "songB = {\n",
    "    \"key\": \"Ab MIN\",\n",
    "    \"camelot_key\": \"1A\",\n",
    "    \"bpm\": 124,\n",
    "    \"genre\": \"MELODICHOUSETECHNO\",\n",
    "    \"category\": \"HOUSE\"}\n",
    "\n",
    "score = get_match_score(songA, songB)\n",
    "print(f\"Match score:{score}%\")"
   ],
   "metadata": {
    "collapsed": false,
    "ExecuteTime": {
     "end_time": "2024-01-08T15:33:45.578273Z",
     "start_time": "2024-01-08T15:33:45.573897Z"
    }
   },
   "id": "d8211fd9620687dd",
   "execution_count": 76
  },
  {
   "cell_type": "markdown",
   "source": [
    "# TODO: tester et vérifier en écoutant\n",
    "# TODO: traiter le son (mfcc??)\n",
    "# TODO: regarder le state of the art"
   ],
   "metadata": {
    "collapsed": false
   },
   "id": "70530eab155eaffc"
  }
 ],
 "metadata": {
  "kernelspec": {
   "display_name": "Python 3",
   "language": "python",
   "name": "python3"
  },
  "language_info": {
   "codemirror_mode": {
    "name": "ipython",
    "version": 2
   },
   "file_extension": ".py",
   "mimetype": "text/x-python",
   "name": "python",
   "nbconvert_exporter": "python",
   "pygments_lexer": "ipython2",
   "version": "2.7.6"
  }
 },
 "nbformat": 4,
 "nbformat_minor": 5
}
